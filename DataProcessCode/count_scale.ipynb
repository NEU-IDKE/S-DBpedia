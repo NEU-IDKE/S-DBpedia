{
 "cells": [
  {
   "cell_type": "code",
   "execution_count": 1,
   "id": "395c2243",
   "metadata": {},
   "outputs": [],
   "source": [
    "import pandas as pd\n",
    "import os"
   ]
  },
  {
   "cell_type": "code",
   "execution_count": 2,
   "id": "e9fb1122",
   "metadata": {},
   "outputs": [],
   "source": [
    "def count_scale(data_path):\n",
    "    df_data = pd.read_csv(data_path, delimiter='\\t', header=None)\n",
    "    df_data.columns = ['head', 'relationship', 'tail']\n",
    "    entity_num = len(pd.concat([df_data['head'], df_data['tail']]).unique())\n",
    "    rela_num = len(df_data['relationship'].unique())\n",
    "    triplets_num = df_data.shape[0]\n",
    "    return triplets_num, entity_num, rela_num"
   ]
  },
  {
   "cell_type": "code",
   "execution_count": 8,
   "id": "03805a47",
   "metadata": {},
   "outputs": [],
   "source": [
    "data_path = []\n",
    "first_path = './data'\n",
    "for second in os.listdir(first_path):\n",
    "    second_path = os.path.join(first_path, second)\n",
    "    for third in os.listdir(second_path):\n",
    "        data_path.append(os.path.join(second_path, third))\n"
   ]
  },
  {
   "cell_type": "code",
   "execution_count": 4,
   "id": "7411b087",
   "metadata": {
    "scrolled": true
   },
   "outputs": [
    {
     "name": "stdout",
     "output_type": "stream",
     "text": [
      "./data/DBpedia-snapshot-2022-03/DBpedia-snapshot-2022-03_duplicates_filterOntology_dropMaxRelationship_filterGeo_dropLess100.csv(4121, 2215, 37)\n"
     ]
    }
   ],
   "source": [
    "for p in data_path:\n",
    "    print(p, end='')\n",
    "    print(count_scale(p))"
   ]
  },
  {
   "cell_type": "markdown",
   "id": "4493471f",
   "metadata": {},
   "source": [
    "# 统计出现频数"
   ]
  },
  {
   "cell_type": "code",
   "execution_count": 5,
   "id": "1e9e6d72",
   "metadata": {},
   "outputs": [],
   "source": [
    "import pandas as pd\n",
    "data_path = ['./data/DBpedia-snapshot-2022-03/DBpedia-snapshot-2022-03_duplicates_filterOntology_dropMaxRelationship_filterGeo.csv',\n",
    "             './data/DBpedia_online/DBpedia_duplicates_filterOntology_dropMaxRelationship_filterGeo.csv']"
   ]
  },
  {
   "cell_type": "code",
   "execution_count": 16,
   "id": "652923cd",
   "metadata": {},
   "outputs": [],
   "source": [
    "for p in data_path:\n",
    "    df = pd.read_csv(p, sep='\\t', names=['head', 'relationship', 'tail'])\n",
    "    ent = pd.concat([df['head'], df['tail']]).value_counts()\n",
    "    relationship = df['relationship'].value_counts()\n",
    "    df_entity_counter = pd.DataFrame(ent)\n",
    "    df_rela_counter = pd.DataFrame(relationship)\n",
    "    df_entity_counter.to_csv('./dataFrequency' + p[6:-4] + '_entityFrequency.csv', sep='\\t', header=None)\n",
    "    df_rela_counter.to_csv('./dataFrequency' + p[6:-4] + '_relationshipFrequency.csv', sep='\\t', header=None)"
   ]
  },
  {
   "cell_type": "code",
   "execution_count": null,
   "id": "07072370",
   "metadata": {},
   "outputs": [],
   "source": []
  }
 ],
 "metadata": {
  "kernelspec": {
   "display_name": "Python 3 (ipykernel)",
   "language": "python",
   "name": "python3"
  },
  "language_info": {
   "codemirror_mode": {
    "name": "ipython",
    "version": 3
   },
   "file_extension": ".py",
   "mimetype": "text/x-python",
   "name": "python",
   "nbconvert_exporter": "python",
   "pygments_lexer": "ipython3",
   "version": "3.7.7"
  }
 },
 "nbformat": 4,
 "nbformat_minor": 5
}
