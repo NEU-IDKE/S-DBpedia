{
 "cells": [
  {
   "cell_type": "code",
   "execution_count": 1,
   "id": "ec7aafe8",
   "metadata": {},
   "outputs": [],
   "source": [
    "import pandas as pd"
   ]
  },
  {
   "cell_type": "code",
   "execution_count": 2,
   "id": "e008c397",
   "metadata": {},
   "outputs": [],
   "source": [
    "data_path = ['./data/DBpedia_online/DBpedia_duplicates_filterOntology.csv',\n",
    "             './data/DBpedia-snapshot-2022-03/DBpedia-snapshot-2022-03_duplicates_filterOntology.csv']"
   ]
  },
  {
   "cell_type": "code",
   "execution_count": 3,
   "id": "ab5d6f6c",
   "metadata": {},
   "outputs": [
    {
     "name": "stdout",
     "output_type": "stream",
     "text": [
      "['http://dbpedia.org/ontology/wikiPageWikiLink', 3805698]\n",
      "['http://dbpedia.org/ontology/wikiPageWikiLink', 32187462]\n"
     ]
    }
   ],
   "source": [
    "for p in data_path:\n",
    "    df = pd.read_csv(p, delimiter='\\t', names=['head', 'relationship', 'tail'])\n",
    "    relationships = df['relationship'].unique()\n",
    "    rela_counter = {i: 0 for i in relationships}\n",
    "    for i in df['relationship']:\n",
    "        rela_counter[i] += 1\n",
    "    max_rela = ['', 0]\n",
    "    for i in rela_counter:\n",
    "        num = rela_counter[i]\n",
    "        if num > max_rela[1]:\n",
    "            max_rela[0] = i\n",
    "            max_rela[1] = num\n",
    "    print(max_rela)\n",
    "    drop_index = df[df['relationship'] == max_rela[0]].index.tolist()\n",
    "    df = df.drop(index=drop_index)\n",
    "    out = p[: -4] + '_dropMaxRelationship.csv'\n",
    "    df.to_csv(out, sep='\\t', header=None, index=None)"
   ]
  },
  {
   "cell_type": "code",
   "execution_count": null,
   "id": "37983d5f",
   "metadata": {},
   "outputs": [],
   "source": []
  }
 ],
 "metadata": {
  "kernelspec": {
   "display_name": "Python 3 (ipykernel)",
   "language": "python",
   "name": "python3"
  },
  "language_info": {
   "codemirror_mode": {
    "name": "ipython",
    "version": 3
   },
   "file_extension": ".py",
   "mimetype": "text/x-python",
   "name": "python",
   "nbconvert_exporter": "python",
   "pygments_lexer": "ipython3",
   "version": "3.7.7"
  }
 },
 "nbformat": 4,
 "nbformat_minor": 5
}
