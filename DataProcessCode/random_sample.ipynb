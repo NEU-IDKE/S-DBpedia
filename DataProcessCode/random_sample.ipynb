{
 "cells": [
  {
   "cell_type": "code",
   "execution_count": 1,
   "id": "be4a5ba3",
   "metadata": {},
   "outputs": [],
   "source": [
    "import pandas as pd\n",
    "import numpy as np\n",
    "import random"
   ]
  },
  {
   "cell_type": "code",
   "execution_count": 2,
   "id": "eaad2186",
   "metadata": {},
   "outputs": [],
   "source": [
    "data_path = './data/DBpedia_combin/DBpedia_duplicates_filterOntology_dropMaxRelationship_filterGeo.csv'"
   ]
  },
  {
   "cell_type": "code",
   "execution_count": 4,
   "id": "2779061d",
   "metadata": {},
   "outputs": [],
   "source": [
    "def get_arg(df):\n",
    "    entity_num = len(pd.concat([df['head'], df['tail']]).unique())\n",
    "    rela_num = len(df['relationship'].unique())\n",
    "    triplets_num = df.shape[0]\n",
    "    return triplets_num, entity_num, rela_num"
   ]
  },
  {
   "cell_type": "markdown",
   "id": "0a863da9",
   "metadata": {},
   "source": [
    "## 随机取50%三元组"
   ]
  },
  {
   "cell_type": "code",
   "execution_count": 7,
   "id": "0979824d",
   "metadata": {},
   "outputs": [],
   "source": [
    "df = pd.read_csv(data_path, sep='\\t', names=['head', 'relationship', 'tail'])\n",
    "np.random.seed(10)\n",
    "df_5 = df.sample(frac=0.5)\n",
    "df_5.to_csv(data_path[:-4] + '_sampleSeed10.csv', header=None, index=None, sep='\\t')"
   ]
  },
  {
   "cell_type": "code",
   "execution_count": 39,
   "id": "372593de",
   "metadata": {
    "scrolled": false
   },
   "outputs": [
    {
     "name": "stdout",
     "output_type": "stream",
     "text": [
      "原来 (2275739, 931560, 316)\n",
      "抽样 (1137870, 730782, 290)\n"
     ]
    }
   ],
   "source": [
    "print('原来', get_arg(df))\n",
    "print('抽样', get_arg(df_5))"
   ]
  },
  {
   "cell_type": "code",
   "execution_count": 10,
   "id": "3e1effc4",
   "metadata": {},
   "outputs": [
    {
     "name": "stdout",
     "output_type": "stream",
     "text": [
      "原来 (2275739, 931560, 316)\n",
      "抽样 (284467, 289214, 227)\n",
      "原来 (2275739, 931560, 316)\n",
      "抽样 (568935, 483910, 256)\n"
     ]
    }
   ],
   "source": [
    "rates = [0.125, 0.25]\n",
    "for rate in rates:\n",
    "    df = pd.read_csv(data_path, sep='\\t', names=['head', 'relationship', 'tail'])\n",
    "    np.random.seed(10)\n",
    "    df_5 = df.sample(frac=rate)\n",
    "    df_5.to_csv(data_path[:-4] + f'_sample{round(rate * 100)}.csv', header=None, index=None, sep='\\t')\n",
    "    print('原来', get_arg(df))\n",
    "    print('抽样', get_arg(df_5))"
   ]
  }
 ],
 "metadata": {
  "kernelspec": {
   "display_name": "Python 3 (ipykernel)",
   "language": "python",
   "name": "python3"
  },
  "language_info": {
   "codemirror_mode": {
    "name": "ipython",
    "version": 3
   },
   "file_extension": ".py",
   "mimetype": "text/x-python",
   "name": "python",
   "nbconvert_exporter": "python",
   "pygments_lexer": "ipython3",
   "version": "3.7.7"
  }
 },
 "nbformat": 4,
 "nbformat_minor": 5
}
