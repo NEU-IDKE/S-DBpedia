{
 "cells": [
  {
   "cell_type": "code",
   "execution_count": 1,
   "id": "4d6f54f8",
   "metadata": {},
   "outputs": [],
   "source": [
    "import pandas as  pd\n",
    "import os"
   ]
  },
  {
   "cell_type": "code",
   "execution_count": 2,
   "id": "5b9d6d89",
   "metadata": {},
   "outputs": [
    {
     "name": "stdout",
     "output_type": "stream",
     "text": [
      "['test1.csv', 'test.csv', 'geo.csv', 'fact_ht_geo.csv']\n"
     ]
    }
   ],
   "source": [
    "print(os.listdir('./raw_data/Yago4_en_2020-02-24/原始文件'))"
   ]
  },
  {
   "cell_type": "code",
   "execution_count": 3,
   "id": "67dcc225",
   "metadata": {},
   "outputs": [],
   "source": [
    "data_path_DBOn = ['./raw_data/DBpedia_online/DBpedia_1.csv']\n",
    "data_path_DBss = ['./raw_data/DBpedia-snapshot-2022-03/local_003.csv', \n",
    "                  './raw_data/DBpedia-snapshot-2022-03/local_002.csv', \n",
    "                  './raw_data/DBpedia-snapshot-2022-03/local001.csv']\n",
    "data_path_Yago = ['./raw_data/Yago4_en_2020-02-24/原始文件/fact_ht_geo.csv']"
   ]
  },
  {
   "cell_type": "code",
   "execution_count": 4,
   "id": "d1c31ce9",
   "metadata": {},
   "outputs": [],
   "source": [
    "outdir = './data'"
   ]
  },
  {
   "cell_type": "code",
   "execution_count": 5,
   "id": "381d42e4",
   "metadata": {
    "scrolled": true
   },
   "outputs": [
    {
     "name": "stderr",
     "output_type": "stream",
     "text": [
      "/home/maocy/miniconda3/lib/python3.7/site-packages/IPython/core/interactiveshell.py:3553: FutureWarning: The error_bad_lines argument has been deprecated and will be removed in a future version.\n",
      "\n",
      "\n",
      "  exec(code_obj, self.user_global_ns, self.user_ns)\n",
      "b'Skipping line 187393: expected 3 fields, saw 4\\nSkipping line 187885: expected 3 fields, saw 4\\n'\n",
      "b'Skipping line 3215477: expected 3 fields, saw 4\\nSkipping line 3244817: expected 3 fields, saw 4\\n'\n",
      "b'Skipping line 3753824: expected 3 fields, saw 4\\n'\n",
      "b'Skipping line 4225262: expected 3 fields, saw 4\\n'\n",
      "b'Skipping line 5585521: expected 3 fields, saw 4\\n'\n",
      "b'Skipping line 6897909: expected 3 fields, saw 4\\nSkipping line 6897910: expected 3 fields, saw 4\\n'\n",
      "b'Skipping line 8670766: expected 3 fields, saw 4\\n'\n",
      "b'Skipping line 10462067: expected 3 fields, saw 4\\n'\n",
      "b'Skipping line 12148893: expected 3 fields, saw 4\\n'\n",
      "b'Skipping line 14847685: expected 3 fields, saw 4\\n'\n"
     ]
    },
    {
     "name": "stdout",
     "output_type": "stream",
     "text": [
      "(20788886, 3)\n",
      "after duplicates (17068799, 3)\n"
     ]
    }
   ],
   "source": [
    "df_DBOn = pd.read_csv(data_path_DBOn[0], delimiter='\\t', error_bad_lines=False)\n",
    "df_DBOn = df_DBOn.dropna(axis=0, how='any')\n",
    "print(df_DBOn.shape)\n",
    "df_DBOn = df_DBOn.drop_duplicates()\n",
    "print('after duplicates', df_DBOn.shape)\n",
    "df_DBOn.to_csv(outdir + '/DBpedia_online/DBpedia_duplicates.csv', sep='\\t', index=None)"
   ]
  },
  {
   "cell_type": "code",
   "execution_count": 6,
   "id": "5258aa09",
   "metadata": {},
   "outputs": [],
   "source": [
    "del df_DBOn"
   ]
  },
  {
   "cell_type": "code",
   "execution_count": 7,
   "id": "7ccbfb05",
   "metadata": {
    "scrolled": true
   },
   "outputs": [
    {
     "name": "stdout",
     "output_type": "stream",
     "text": [
      "(132899049, 3)\n",
      "after duplicates (130948415, 3)\n"
     ]
    }
   ],
   "source": [
    "df_DBsses = []\n",
    "for p in data_path_DBss:\n",
    "    df_DBss = pd.read_csv(p, delimiter='\\t', names=['0', '1', '2'], error_bad_lines=False)\n",
    "    df_DBss = df_DBss.dropna(axis=0, how='any')\n",
    "    df_DBsses.append(df_DBss)\n",
    "df_DBss = pd.concat(df_DBsses, axis=0)\n",
    "del df_DBsses\n",
    "print(df_DBss.shape)\n",
    "df_DBss = df_DBss.drop_duplicates()\n",
    "print('after duplicates', df_DBss.shape)\n",
    "df_DBss.to_csv(outdir + '/DBpedia-snapshot-2022-03/DBpedia-snapshot-2022-03_duplicates.csv', header=None, sep='\\t', index=None)"
   ]
  },
  {
   "cell_type": "code",
   "execution_count": 8,
   "id": "9e123d29",
   "metadata": {},
   "outputs": [],
   "source": [
    "del df_DBss"
   ]
  },
  {
   "cell_type": "code",
   "execution_count": 9,
   "id": "ff0322e9",
   "metadata": {},
   "outputs": [
    {
     "name": "stdout",
     "output_type": "stream",
     "text": [
      "(1148172, 3)\n",
      "after duplicates (1148172, 3)\n"
     ]
    }
   ],
   "source": [
    "df_Yago = pd.read_csv(data_path_Yago[0], delimiter='\\t', names=['0', '1', '2'], error_bad_lines=False)\n",
    "df_Yago = df_Yago.dropna(axis=0, how='any')\n",
    "print(df_Yago.shape)\n",
    "df_Yago = df_Yago.drop_duplicates()\n",
    "print('after duplicates', df_Yago.shape)\n",
    "df_Yago.to_csv(outdir + '/Yago4_en_2020-02-24/fact_ht_geo_duplicates.csv', header=None, sep='\\t', index=None)"
   ]
  },
  {
   "cell_type": "markdown",
   "id": "f24435e8",
   "metadata": {},
   "source": [
    "# 合并DBpedia"
   ]
  },
  {
   "cell_type": "code",
   "execution_count": 2,
   "id": "bdec9165",
   "metadata": {},
   "outputs": [],
   "source": [
    "data_path = ['./data/DBpedia-snapshot-2022-03/DBpedia-snapshot-2022-03_duplicates_filterOntology_dropMaxRelationship_filterGeo.csv',\n",
    "             './data/DBpedia_online/DBpedia_duplicates_filterOntology_dropMaxRelationship_filterGeo.csv']"
   ]
  },
  {
   "cell_type": "code",
   "execution_count": 5,
   "id": "d8e34f0d",
   "metadata": {},
   "outputs": [],
   "source": [
    "df1 = pd.read_csv(data_path[0], delimiter='\\t', names=[0, 1, 2])\n",
    "df2 = pd.read_csv(data_path[1], delimiter='\\t', names=[0, 1, 2])\n",
    "df = pd.concat([df1, df2])\n",
    "df = df.drop_duplicates()\n",
    "df.to_csv('./data/DBpedia_combin/DBpedia_duplicates_filterOntology_dropMaxRelationship_filterGeo.csv', header=None, index=None, sep='\\t')"
   ]
  }
 ],
 "metadata": {
  "kernelspec": {
   "display_name": "Python 3 (ipykernel)",
   "language": "python",
   "name": "python3"
  },
  "language_info": {
   "codemirror_mode": {
    "name": "ipython",
    "version": 3
   },
   "file_extension": ".py",
   "mimetype": "text/x-python",
   "name": "python",
   "nbconvert_exporter": "python",
   "pygments_lexer": "ipython3",
   "version": "3.7.7"
  }
 },
 "nbformat": 4,
 "nbformat_minor": 5
}
