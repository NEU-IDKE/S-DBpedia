{
 "cells": [
  {
   "cell_type": "code",
   "execution_count": 1,
   "id": "d64b51b2",
   "metadata": {},
   "outputs": [],
   "source": [
    "import pandas as pd"
   ]
  },
  {
   "cell_type": "code",
   "execution_count": 2,
   "id": "91eda3a7",
   "metadata": {},
   "outputs": [],
   "source": [
    "data_path = ['./data/DBpedia_online/DBpedia_duplicates_filterOntology_dropMaxRelationship.csv',\n",
    "             './data/DBpedia-snapshot-2022-03/DBpedia-snapshot-2022-03_duplicates_filterOntology_dropMaxRelationship.csv']\n",
    "get_geo_path = ['./data/DBpedia-snapshot-2022-03/DBpedia-snapshot-2022-03_duplicates.csv',\n",
    "                './data/DBpedia_online/DBpedia_duplicates.csv']\n",
    "output_path = './data/DBpedia_combin'"
   ]
  },
  {
   "cell_type": "code",
   "execution_count": 5,
   "id": "3961504c",
   "metadata": {},
   "outputs": [],
   "source": [
    "df1 = pd.read_csv(get_geo_path[0], sep='\\t', names=['head', 'relationship', 'tail'])\n",
    "df2 = pd.read_csv(get_geo_path[1], sep='\\t', names=['head', 'relationship', 'tail'])\n",
    "df = pd.concat([df1, df2])\n",
    "del df1\n",
    "del df2\n",
    "df = df.drop_duplicates()\n",
    "df_geoEntity = df[df['relationship'] == 'http://www.georss.org/georss/point']\n",
    "df_geoEntity.to_csv(output_path + '/DBpedia-geo.csv', header=None, sep='\\t', index=None)\n",
    "df.to_csv(output_path + '/DBpedia_duplicate.csv', header=None, sep='\\t', index=None)"
   ]
  },
  {
   "cell_type": "code",
   "execution_count": 3,
   "id": "d92e5cf9",
   "metadata": {},
   "outputs": [],
   "source": [
    "df = pd.read_csv(output_path + '/DBpedia-geo.csv', sep='\\t', names=['h', 'r', 't'])"
   ]
  },
  {
   "cell_type": "code",
   "execution_count": 5,
   "id": "b1b7bba2",
   "metadata": {},
   "outputs": [
    {
     "data": {
      "text/plain": [
       "1249572"
      ]
     },
     "execution_count": 5,
     "metadata": {},
     "output_type": "execute_result"
    }
   ],
   "source": [
    "len(df['h'].unique())"
   ]
  },
  {
   "cell_type": "code",
   "execution_count": 6,
   "id": "cec7249a",
   "metadata": {},
   "outputs": [
    {
     "data": {
      "text/plain": [
       "(1250887, 3)"
      ]
     },
     "execution_count": 6,
     "metadata": {},
     "output_type": "execute_result"
    }
   ],
   "source": [
    "df.shape"
   ]
  },
  {
   "cell_type": "code",
   "execution_count": 8,
   "id": "c832c7bd",
   "metadata": {},
   "outputs": [
    {
     "ename": "NameError",
     "evalue": "name 'df_geoEntity' is not defined",
     "output_type": "error",
     "traceback": [
      "\u001b[0;31m---------------------------------------------------------------------------\u001b[0m",
      "\u001b[0;31mNameError\u001b[0m                                 Traceback (most recent call last)",
      "\u001b[0;32m/tmp/ipykernel_25009/1753938617.py\u001b[0m in \u001b[0;36m<module>\u001b[0;34m\u001b[0m\n\u001b[0;32m----> 1\u001b[0;31m \u001b[0;32mdel\u001b[0m \u001b[0mdf_geoEntity\u001b[0m\u001b[0;34m\u001b[0m\u001b[0;34m\u001b[0m\u001b[0m\n\u001b[0m\u001b[1;32m      2\u001b[0m \u001b[0;32mdel\u001b[0m \u001b[0mdf\u001b[0m\u001b[0;34m\u001b[0m\u001b[0;34m\u001b[0m\u001b[0m\n",
      "\u001b[0;31mNameError\u001b[0m: name 'df_geoEntity' is not defined"
     ]
    }
   ],
   "source": [
    "del df_geoEntity\n",
    "del df"
   ]
  },
  {
   "cell_type": "code",
   "execution_count": 3,
   "id": "bb4f75c3",
   "metadata": {},
   "outputs": [
    {
     "name": "stdout",
     "output_type": "stream",
     "text": [
      "./data/DBpedia_online/DBpedia_duplicates_filterOntology_dropMaxRelationship.csv 读取成功！\n",
      "./data/DBpedia_online/DBpedia_duplicates_filterOntology_dropMaxRelationship.csv 拼接完成！\n",
      "./data/DBpedia_online/DBpedia_duplicates_filterOntology_dropMaxRelationship.csv 写入完成！\n",
      "./data/DBpedia-snapshot-2022-03/DBpedia-snapshot-2022-03_duplicates_filterOntology_dropMaxRelationship.csv 读取成功！\n",
      "./data/DBpedia-snapshot-2022-03/DBpedia-snapshot-2022-03_duplicates_filterOntology_dropMaxRelationship.csv 拼接完成！\n",
      "./data/DBpedia-snapshot-2022-03/DBpedia-snapshot-2022-03_duplicates_filterOntology_dropMaxRelationship.csv 写入完成！\n"
     ]
    }
   ],
   "source": [
    "df_entity_filter = pd.read_csv('./data/DBpedia_combin/DBpedia-geo.csv', sep='\\t', names=['head', 'relationship', 'tail'])\n",
    "entity_filter_head = pd.DataFrame({'head': df_entity_filter['head'].unique()})\n",
    "entity_filter_tail = pd.DataFrame({'tail': df_entity_filter['head'].unique()})\n",
    "entity_filter_head[1] = True\n",
    "entity_filter_tail[2] = True\n",
    "del df_entity_filter\n",
    "for p in data_path:\n",
    "    df = pd.read_csv(p, sep='\\t', names=['head', 'relationship', 'tail'])\n",
    "    print(p, '读取成功！')\n",
    "    df = pd.merge(df, entity_filter_head, on='head', how='left')\n",
    "    df = pd.merge(df, entity_filter_tail, on='tail', how='left')\n",
    "    print(p, '拼接完成！')\n",
    "    df = df[df[1] == True]\n",
    "    df = df[df[2] == True]\n",
    "    df = df[['head', 'relationship', 'tail']]\n",
    "    df.to_csv(p[:-4] + '_filterGeo.csv', sep='\\t', header=None, index=None)\n",
    "    print(p, '写入完成！')\n"
   ]
  }
 ],
 "metadata": {
  "kernelspec": {
   "display_name": "Python 3 (ipykernel)",
   "language": "python",
   "name": "python3"
  },
  "language_info": {
   "codemirror_mode": {
    "name": "ipython",
    "version": 3
   },
   "file_extension": ".py",
   "mimetype": "text/x-python",
   "name": "python",
   "nbconvert_exporter": "python",
   "pygments_lexer": "ipython3",
   "version": "3.7.7"
  }
 },
 "nbformat": 4,
 "nbformat_minor": 5
}
