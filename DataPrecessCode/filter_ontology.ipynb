{
 "cells": [
  {
   "cell_type": "code",
   "execution_count": 1,
   "id": "2cec7919",
   "metadata": {},
   "outputs": [],
   "source": [
    "import pandas as pd"
   ]
  },
  {
   "cell_type": "code",
   "execution_count": 2,
   "id": "2199f5f4",
   "metadata": {},
   "outputs": [],
   "source": [
    "data_path = ['./data/DBpedia_online/DBpedia_duplicates.csv',\n",
    "             './data/DBpedia-snapshot-2022-03/DBpedia-snapshot-2022-03_duplicates.csv']"
   ]
  },
  {
   "cell_type": "code",
   "execution_count": 3,
   "id": "f5f73cdc",
   "metadata": {},
   "outputs": [],
   "source": [
    "for p in data_path:\n",
    "    df = pd.read_csv(p, delimiter='\\t', names=['head', 'relationship', 'tail'])\n",
    "    df = df[(df['relationship'].str.contains(\"http://dbpedia.org/ontology/\"))]\n",
    "    out = p[: -4] + '_filterOntology.csv'\n",
    "    df.to_csv(out, sep='\\t', header=None, index=None)\n",
    "    del df"
   ]
  }
 ],
 "metadata": {
  "kernelspec": {
   "display_name": "Python 3 (ipykernel)",
   "language": "python",
   "name": "python3"
  },
  "language_info": {
   "codemirror_mode": {
    "name": "ipython",
    "version": 3
   },
   "file_extension": ".py",
   "mimetype": "text/x-python",
   "name": "python",
   "nbconvert_exporter": "python",
   "pygments_lexer": "ipython3",
   "version": "3.7.7"
  }
 },
 "nbformat": 4,
 "nbformat_minor": 5
}
